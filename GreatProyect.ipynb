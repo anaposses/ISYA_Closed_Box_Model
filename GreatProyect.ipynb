{
 "cells": [
  {
   "cell_type": "markdown",
   "metadata": {},
   "source": [
    "<h1 class=\"western\" style=\"font-weight: normal; text-align: center;\"><span style=\"color: #0000ff;\"><span style=\"font-family: Liberation Serif, serif;\">Chemical Evolution of the Milky Way</span></span></h1>"
   ]
  },
  {
   "cell_type": "markdown",
   "metadata": {},
   "source": [
    "###### Authors:\n",
    "\n",
    "* .\n",
    "* .\n",
    "* .\n",
    "* .\n"
   ]
  },
  {
   "cell_type": "code",
   "execution_count": 11,
   "metadata": {},
   "outputs": [],
   "source": [
    "# Libraries \n",
    "\n",
    "import numpy as np\n",
    "import matplotlib.pylab as plt"
   ]
  },
  {
   "cell_type": "markdown",
   "metadata": {},
   "source": [
    "## 1 - Description\n"
   ]
  },
  {
   "cell_type": "markdown",
   "metadata": {},
   "source": [
    "\n",
    "\n",
    "<h3>1.1 Motivation:</h3>\n",
    "<p>This code is a product of the project \"Chemical Evolution of MW\" developed at the 41th ISYA, Socorro -&nbsp; Colombia by the authors above. <span lang=\"en\">Our goal is to perform a description of the distribution of metallicity of the stars of our galaxies over time, focusing mainly on the distribution observed in the current time. In order to do that, we built a code which solves the system of differential equations developed by xxxxx, called Closed Box Model. <br /></span></p>\n",
    "\n",
    "\n",
    "### 1.2 Goals:\n",
    "\n",
    "* Construct a code that returns the **probability distribution of metallicity at different times** and\n",
    "make a **comparison with the literature**.\n",
    "* Compare the model with **observational data** in order to identify the efficiency of the treatment.\n",
    "* Consider a **modification of the model**, assuming mass outflows and identify what the final outcome change is.\n",
    "\n",
    "WHAT ELSE??"
   ]
  },
  {
   "cell_type": "markdown",
   "metadata": {},
   "source": [
    "### 1.3 Closed Box Model\n",
    "\n",
    "For a complete understanding of the evolution of the chemical elements in our Galaxy, we need to identify which are the chemical processes that influence the appearance of these elements and which are the mechanisms that carry out their distribution.\n",
    "\n",
    "The so-called light chemical elements, such as H, He and D, were formed in the primordial nucleosynthesis at the beginning of the Universe's history and are the most abundant elements still today. Elements heavier than helium are called metals and are formed inside the stars. The evolution of these objects leads to their death and, in the case of more massive stars, the enrichment of the interstellar medium through the process of supernova type II explosion. Besides this process, the metals can be formed during the explosion of type Ia supernovae (Giant Red system + white ana). It is important to note that the fraction of formed metals varies for each type of supernova.\n",
    "\n",
    "Considering such information, our treatment is based on the closed box model, initially proposed by Txxx (1980). This model assumes:\n",
    "\n",
    "* the galaxy's gas is well-mixed (had the same initial com position everywhere)\n",
    "* IRA (instantaneous reciclying assumption) -the (high-mass) stars return their nucleosynthetic products rapidly, much faster than the time to form a significant fraction of the stars. \n",
    "* no gas escapes from or is added to the galaxy \n",
    "\n",
    "We get the following distribution:\n",
    "\n",
    "$$\n",
    "Z = y ln \\frac{1}{\\mu}\n",
    "$$\n"
   ]
  },
  {
   "cell_type": "markdown",
   "metadata": {},
   "source": [
    "## 2 - Initial conditions:\n",
    "we need reliable references\n"
   ]
  },
  {
   "cell_type": "code",
   "execution_count": 12,
   "metadata": {},
   "outputs": [],
   "source": [
    "M0_gas   =4e10  #en Msun\n",
    "gal_diam =30000 #en pc (30 en kpc)\n",
    "gal_radi =15000 #en pc (15 en kpc)\n",
    "gal_width=400   #en pc (0.4 en kpc)\n",
    "gal_vol  =(np.pi*gal_radi**2)*gal_width\n",
    "volum_gas_density=1.*M0_gas/gal_vol\n",
    "surf_gas_density =volum_gas_density*gal_width"
   ]
  },
  {
   "cell_type": "markdown",
   "metadata": {},
   "source": [
    "## 3 - Functions:\n",
    "\n",
    "We define some functions used in our methodology:\n",
    "\n"
   ]
  },
  {
   "cell_type": "markdown",
   "metadata": {},
   "source": [
    "### 3.1 - IMF: Initial Mass Function\n",
    "\n",
    "The initial mass function (IMF) is an empirical function that describes the initial distribution of masses for a population of stars. The IMF is often given as a probability distribution function (PDF) for the mass at which a star enters the main sequence.\n",
    "\n",
    "<p><img src=\"http://www.astro.ljmu.ac.uk/~ikb/research/IMFs.gif\" alt=\"\" width=\"341\" height=\"310\" /></p>\n",
    "\n",
    "Among the different models of MFIs presented, we adopted the model of Salpeter (year) for our model. **The IMF is constante in time.**\n",
    "\n",
    "$$\n",
    "IMF = \\frac{1}{16.5816} * m^{-2.35}\n",
    "$$\n",
    "\n",
    "[IMF] = adm"
   ]
  },
  {
   "cell_type": "code",
   "execution_count": 13,
   "metadata": {},
   "outputs": [],
   "source": [
    "def imf_salp(m):\n",
    "    imf = (1. / 16.5816) * (m ** -2.35)\n",
    "    return imf"
   ]
  },
  {
   "cell_type": "markdown",
   "metadata": {},
   "source": [
    "### 3.2 - Star Formation Rate\n",
    "\n",
    "The star formation rate is the total mass of stars formed per year. \n",
    "\n",
    "**Kennicutt-Schmidt Law**\n",
    "\n",
    "A key ingredient in the understanding and modelling of galaxy evolution is the relationship between the large-scale star formation rate (SFR) and the physical conditions in the interstellar medium (ISM). The KS law relates the star formation rate of a galaxy with its density surface of gas:\n",
    "\n",
    "\n",
    "$$\n",
    "\\psi(t) = \\nu \\sigma_{gas}^{k} =SFR\n",
    "$$\n",
    "\n",
    "Each:\n",
    "\n",
    "$[\\psi(t)] =  \\frac{M_{\\odot}}{yr \\cdot Mpc^{2}}$\n",
    "\n",
    "$[\\sigma_{gas}] =  \\frac{M_{\\odot}}{\\cdot Mpc^{2}}$\n",
    "\n",
    "$k = 1.4$ y $\\nu = 2.5*10^{-4} M_{solar} /yr / kpc^2$ \n",
    "\n",
    "WHAT ASSUMPTIONS?"
   ]
  },
  {
   "cell_type": "code",
   "execution_count": 14,
   "metadata": {},
   "outputs": [],
   "source": [
    "##----------STAR FORMATION RATE----------------\n",
    "nu= 176714586.76442587\n",
    "k= 1.4\n",
    "def SFR(rho):\n",
    "    return nu*(rho)**k\n"
   ]
  },
  {
   "cell_type": "code",
   "execution_count": 19,
   "metadata": {},
   "outputs": [],
   "source": []
  },
  {
   "cell_type": "code",
   "execution_count": null,
   "metadata": {},
   "outputs": [],
   "source": []
  },
  {
   "cell_type": "code",
   "execution_count": null,
   "metadata": {},
   "outputs": [],
   "source": []
  },
  {
   "cell_type": "markdown",
   "metadata": {},
   "source": [
    "# EJECTED MASS ??"
   ]
  },
  {
   "cell_type": "code",
   "execution_count": 15,
   "metadata": {},
   "outputs": [],
   "source": [
    "def eject_gas(m,new_rho):\n",
    " #age=stellar_age(m)\n",
    " if m<1:\n",
    "     return 0\n",
    " else:\n",
    "  eject=(m-remnant_mass(m))*SFR(new_rho)\n",
    " return eject"
   ]
  },
  {
   "cell_type": "markdown",
   "metadata": {},
   "source": [
    "\n",
    "\n",
    "# EQUATIONS\n",
    "\n",
    "$$\n",
    "\\frac{dM_{gas}}{dt} = -\\psi(t) + \\int_{m(t)}^{\\inf} (m-M_r) \\psi(t-\\tau_r) \\phi(m) dm\n",
    "$$\n",
    "\n",
    "where $m_{gas}(0) = M_{tot}  = const$, $\\mu = M_{gas}/M_{tot}$ as the fractional gas , where the metalicity is $Z= M_z / M_{gas} $  is zero at time $t=0$. So we have \n",
    "\n",
    "$$\n",
    "\\frac{dZ M_{gas}}{dt} = -Z\\psi(t) + \\int_{m(t)}^{\\inf} [(m-M_r) Z(t-\\tau_r)+ m p_{Zm} ] \\psi(t-\\tau_r) \\phi(m) dm\n",
    "$$\n",
    "\n",
    "\n",
    "$$\n",
    "\\psi(t) = \\nu \\sigma_{gas}^{k} =SFR\n",
    "$$\n",
    "\n",
    "con $k = 1.4$ y $\\nu = 2.5*10^{-4} M_{solar} /yr / kpc^2$ --------------another number\n",
    "$$\n",
    "E(m) = \\int_{m(t)}^{\\inf} (m-M_r) \\psi(t-\\tau_r) \\phi(m) dm\n",
    "$$\n",
    "\n",
    "we are going to solve\n",
    "$$\n",
    "\\frac{dM_{gas}}{dt} = -\\psi(t)\n",
    "$$\n",
    "and how ?, using the definition of derivation\n",
    "$$\n",
    "\\frac{M_{new} - M_{old}}{\\Delta t} = K\n",
    "$$\n",
    "\n",
    "so is going to be an iteration for calculating new mases thinking in an update\n",
    "\n",
    "$$\n",
    "M_{new} = K* \\Delta t -M_{old} = -\\psi(t)* \\Delta t- M_{old} = \\nu \\sigma_{gas} (m_{old}) ^{k} * \\Delta t - M_{old}\n",
    "$$"
   ]
  },
  {
   "cell_type": "markdown",
   "metadata": {},
   "source": [
    "## Initial conditions    (we need references)"
   ]
  },
  {
   "cell_type": "code",
   "execution_count": null,
   "metadata": {},
   "outputs": [],
   "source": [
    "\n"
   ]
  },
  {
   "cell_type": "markdown",
   "metadata": {},
   "source": [
    "## Functions\n",
    "\\box{----------------------------------------------------------------------------------------------------------------------------------------------\n",
    "$$\n",
    "IMF = \\frac{1}{16.5816} * m^{-2.35}\n",
    "$$\n",
    "\\box}----------------------------------------------------------------------------------------------------------------------------------------------\n",
    "\n",
    "\\----------------------------------------------------------------------------------------------------------------------------------------------\n",
    "\n",
    "$$\n",
    "SFR= \\psi(t) = \\nu \\sigma_{gas}^{k} \n",
    "$$\n",
    "\\----------------------------------------------------------------------------------------------------------------------------------------------\n",
    "\n",
    "\n",
    "\\----------------------------------------------------------------------------------------------------------------------------------------------\n",
    "\n",
    "$$\n",
    "E(m) = \\int_{m(t)}^{\\inf} (m-M_r) \\psi(t-\\tau_r) \\phi(m) dm\n",
    "$$\n",
    "\\----------------------------------------------------------------------------------------------------------------------------------------------\n",
    "\n",
    "\n"
   ]
  },
  {
   "cell_type": "markdown",
   "metadata": {},
   "source": [
    "## 4 - Methodology:\n"
   ]
  },
  {
   "cell_type": "markdown",
   "metadata": {},
   "source": [
    "We will follow the discussion in Matteucci (2016) and chapter 3 of the book \"Chemical Evolution blablaba\". As commented, the Simple Model of chemical evolution assumes that the system is evolving as a closed-box,\n",
    "without inflows or outflows, the IMF is constant in time, the chemical composition of the gas\n",
    "is primordial and the mixing between the chemical products ejected by stars and the ISM is\n",
    "instantaneous, plus IRA.\n",
    "\n"
   ]
  },
  {
   "cell_type": "code",
   "execution_count": 18,
   "metadata": {},
   "outputs": [
    {
     "data": {
      "image/png": "[encoded data removed]",
      "text/plain": [
       "<Figure size 432x288 with 1 Axes>"
      ]
     },
     "metadata": {},
     "output_type": "display_data"
    }
   ],
   "source": [
    "i = 0\n",
    "dt=0.001 #MEGAyears#\n",
    "steps = 10000 #Gigayears\n",
    "while i < steps:\n",
    "    t=i*dt\n",
    "    time.append(t)\n",
    "    #eg=intg.romberg(eject_gas,0.1,100,args=(surf_gas_density_array[-1],))\n",
    "    sg=SFR(surf_gas_density_array[-1])\n",
    "    #esg=eg-sg\n",
    "    current_Mgas   =m_gas_array[-1]-sg*dt\n",
    "    current_Vdensity=1.*current_Mgas/gal_vol\n",
    "    current_Adensity=current_Vdensity*gal_width\n",
    "\n",
    "    m_gas_array.append(current_Mgas)\n",
    "    volum_gas_density_array.append(current_Vdensity)\n",
    "    surf_gas_density_array.append(current_Adensity)\n",
    "    i+=1\n",
    "time.append(10)\n",
    "\n",
    "#wharever\n",
    "\n",
    "\n",
    "fig, ax = plt.subplots()\n",
    "ax.plot(time, m_gas_array)\n",
    "\n",
    "ax.set(xlabel='time (Gyears)', ylabel='Mass (mV)',\n",
    "       title='Only SFR function')\n",
    "ax.grid()\n",
    "\n",
    "fig.savefig(\"test.png\")\n",
    "plt.show()\n"
   ]
  },
  {
   "cell_type": "code",
   "execution_count": null,
   "metadata": {},
   "outputs": [],
   "source": []
  },
  {
   "cell_type": "code",
   "execution_count": null,
   "metadata": {},
   "outputs": [],
   "source": []
  },
  {
   "cell_type": "code",
   "execution_count": null,
   "metadata": {},
   "outputs": [],
   "source": []
  }
 ],
 "metadata": {
  "kernelspec": {
   "display_name": "Python 3",
   "language": "python",
   "name": "python3"
  },
  "language_info": {
   "codemirror_mode": {
    "name": "ipython",
    "version": 3
   },
   "file_extension": ".py",
   "mimetype": "text/x-python",
   "name": "python",
   "nbconvert_exporter": "python",
   "pygments_lexer": "ipython3",
   "version": "3.6.5"
  }
 },
 "nbformat": 4,
 "nbformat_minor": 2
}
